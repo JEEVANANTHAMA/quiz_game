{
 "cells": [
  {
   "cell_type": "code",
   "execution_count": 1,
   "metadata": {},
   "outputs": [
    {
     "name": "stdout",
     "output_type": "stream",
     "text": [
      "Welcome to my laptop quiz game\n",
      "Okay Lets Play the game. [:-)]\n",
      "incorrect :( \n",
      "Correct !\n",
      "Correct !\n",
      "Correct !\n",
      "incorrect :( \n",
      "you got 3 question correct\n",
      "you got 75.0%.\n"
     ]
    }
   ],
   "source": [
    "print(\"Welcome to my laptop quiz game\")\n",
    "\n",
    "playing = input(\"Do you want to play game? \")\n",
    "\n",
    "if playing.lower() != \"yes\":\n",
    "    quit()\n",
    "\n",
    "print(\"Okay Lets Play the game. [:-)]\")\n",
    "score = 0 \n",
    "\n",
    "qus1=input(\"CPU Abbrevation? \")\n",
    "if qus1.lower() == \"control processing unit\":\n",
    "    print(\"Correct !\")\n",
    "    score += 1\n",
    "else:\n",
    "    print(\"incorrect :( \")\n",
    "\n",
    "qus1=input(\"GPU Abbrevation? \")\n",
    "if qus1.lower() == \"graphical processing unit\":\n",
    "    print(\"Correct !\")\n",
    "    score += 1\n",
    "else:\n",
    "    print(\"incorrect :( \")\n",
    "\n",
    "qus1=input(\"RAM Abbrevation? \").lower()\n",
    "if qus1 == \"random access memory\":\n",
    "    print(\"Correct !\")\n",
    "    score += 1\n",
    "else:\n",
    "    print(\"incorrect :( \")\n",
    "\n",
    "qus1=input(\"ROM Abbrevation? \")\n",
    "if qus1.lower() == \"read only memory\":\n",
    "    print(\"Correct !\")\n",
    "    score += 1\n",
    "else:\n",
    "    print(\"incorrect :( \")\n",
    "\n",
    "qus1=input(\"CD Abbrevation? \").lower()\n",
    "if qus1 == \"compact disk\":\n",
    "    print(\"Correct !\")\n",
    "    score += 1\n",
    "else:\n",
    "    print(\"incorrect :( \")\n",
    "\n",
    "print(\"you got \"+ str(score) + \" question correct\")\n",
    "print(\"you got \"+ str((score/4)*100) + \"%.\")"
   ]
  }
 ],
 "metadata": {
  "kernelspec": {
   "display_name": "Python 3",
   "language": "python",
   "name": "python3"
  },
  "language_info": {
   "codemirror_mode": {
    "name": "ipython",
    "version": 3
   },
   "file_extension": ".py",
   "mimetype": "text/x-python",
   "name": "python",
   "nbconvert_exporter": "python",
   "pygments_lexer": "ipython3",
   "version": "3.12.4"
  }
 },
 "nbformat": 4,
 "nbformat_minor": 2
}
